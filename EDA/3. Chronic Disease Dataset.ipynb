{
 "cells": [
  {
   "cell_type": "markdown",
   "id": "6b50f217",
   "metadata": {},
   "source": [
    "# Visualizing and Analysisng Dataset on Chronic (Kidney) Disease."
   ]
  },
  {
   "cell_type": "code",
   "execution_count": 2,
   "id": "6a5d8125",
   "metadata": {},
   "outputs": [],
   "source": [
    "import pandas as pd\n",
    "import numpy as np\n",
    "import matplotlib.pyplot as plt\n",
    "import seaborn as sns\n",
    "import plotly.express as px\n",
    "\n",
    "\n",
    "import warnings\n",
    "warnings.filterwarnings('ignore')"
   ]
  },
  {
   "cell_type": "code",
   "execution_count": 3,
   "id": "87afeef1",
   "metadata": {},
   "outputs": [
    {
     "data": {
      "text/html": [
       "<div>\n",
       "<style scoped>\n",
       "    .dataframe tbody tr th:only-of-type {\n",
       "        vertical-align: middle;\n",
       "    }\n",
       "\n",
       "    .dataframe tbody tr th {\n",
       "        vertical-align: top;\n",
       "    }\n",
       "\n",
       "    .dataframe thead th {\n",
       "        text-align: right;\n",
       "    }\n",
       "</style>\n",
       "<table border=\"1\" class=\"dataframe\">\n",
       "  <thead>\n",
       "    <tr style=\"text-align: right;\">\n",
       "      <th></th>\n",
       "      <th>id</th>\n",
       "      <th>age</th>\n",
       "      <th>bp</th>\n",
       "      <th>sg</th>\n",
       "      <th>al</th>\n",
       "      <th>su</th>\n",
       "      <th>rbc</th>\n",
       "      <th>pc</th>\n",
       "      <th>pcc</th>\n",
       "      <th>ba</th>\n",
       "      <th>...</th>\n",
       "      <th>pcv</th>\n",
       "      <th>wc</th>\n",
       "      <th>rc</th>\n",
       "      <th>htn</th>\n",
       "      <th>dm</th>\n",
       "      <th>cad</th>\n",
       "      <th>appet</th>\n",
       "      <th>pe</th>\n",
       "      <th>ane</th>\n",
       "      <th>classification</th>\n",
       "    </tr>\n",
       "  </thead>\n",
       "  <tbody>\n",
       "    <tr>\n",
       "      <th>0</th>\n",
       "      <td>0</td>\n",
       "      <td>48.0</td>\n",
       "      <td>80.0</td>\n",
       "      <td>1.020</td>\n",
       "      <td>1.0</td>\n",
       "      <td>0.0</td>\n",
       "      <td>NaN</td>\n",
       "      <td>normal</td>\n",
       "      <td>notpresent</td>\n",
       "      <td>notpresent</td>\n",
       "      <td>...</td>\n",
       "      <td>44</td>\n",
       "      <td>7800</td>\n",
       "      <td>5.2</td>\n",
       "      <td>yes</td>\n",
       "      <td>yes</td>\n",
       "      <td>no</td>\n",
       "      <td>good</td>\n",
       "      <td>no</td>\n",
       "      <td>no</td>\n",
       "      <td>ckd</td>\n",
       "    </tr>\n",
       "    <tr>\n",
       "      <th>1</th>\n",
       "      <td>1</td>\n",
       "      <td>7.0</td>\n",
       "      <td>50.0</td>\n",
       "      <td>1.020</td>\n",
       "      <td>4.0</td>\n",
       "      <td>0.0</td>\n",
       "      <td>NaN</td>\n",
       "      <td>normal</td>\n",
       "      <td>notpresent</td>\n",
       "      <td>notpresent</td>\n",
       "      <td>...</td>\n",
       "      <td>38</td>\n",
       "      <td>6000</td>\n",
       "      <td>NaN</td>\n",
       "      <td>no</td>\n",
       "      <td>no</td>\n",
       "      <td>no</td>\n",
       "      <td>good</td>\n",
       "      <td>no</td>\n",
       "      <td>no</td>\n",
       "      <td>ckd</td>\n",
       "    </tr>\n",
       "    <tr>\n",
       "      <th>2</th>\n",
       "      <td>2</td>\n",
       "      <td>62.0</td>\n",
       "      <td>80.0</td>\n",
       "      <td>1.010</td>\n",
       "      <td>2.0</td>\n",
       "      <td>3.0</td>\n",
       "      <td>normal</td>\n",
       "      <td>normal</td>\n",
       "      <td>notpresent</td>\n",
       "      <td>notpresent</td>\n",
       "      <td>...</td>\n",
       "      <td>31</td>\n",
       "      <td>7500</td>\n",
       "      <td>NaN</td>\n",
       "      <td>no</td>\n",
       "      <td>yes</td>\n",
       "      <td>no</td>\n",
       "      <td>poor</td>\n",
       "      <td>no</td>\n",
       "      <td>yes</td>\n",
       "      <td>ckd</td>\n",
       "    </tr>\n",
       "    <tr>\n",
       "      <th>3</th>\n",
       "      <td>3</td>\n",
       "      <td>48.0</td>\n",
       "      <td>70.0</td>\n",
       "      <td>1.005</td>\n",
       "      <td>4.0</td>\n",
       "      <td>0.0</td>\n",
       "      <td>normal</td>\n",
       "      <td>abnormal</td>\n",
       "      <td>present</td>\n",
       "      <td>notpresent</td>\n",
       "      <td>...</td>\n",
       "      <td>32</td>\n",
       "      <td>6700</td>\n",
       "      <td>3.9</td>\n",
       "      <td>yes</td>\n",
       "      <td>no</td>\n",
       "      <td>no</td>\n",
       "      <td>poor</td>\n",
       "      <td>yes</td>\n",
       "      <td>yes</td>\n",
       "      <td>ckd</td>\n",
       "    </tr>\n",
       "    <tr>\n",
       "      <th>4</th>\n",
       "      <td>4</td>\n",
       "      <td>51.0</td>\n",
       "      <td>80.0</td>\n",
       "      <td>1.010</td>\n",
       "      <td>2.0</td>\n",
       "      <td>0.0</td>\n",
       "      <td>normal</td>\n",
       "      <td>normal</td>\n",
       "      <td>notpresent</td>\n",
       "      <td>notpresent</td>\n",
       "      <td>...</td>\n",
       "      <td>35</td>\n",
       "      <td>7300</td>\n",
       "      <td>4.6</td>\n",
       "      <td>no</td>\n",
       "      <td>no</td>\n",
       "      <td>no</td>\n",
       "      <td>good</td>\n",
       "      <td>no</td>\n",
       "      <td>no</td>\n",
       "      <td>ckd</td>\n",
       "    </tr>\n",
       "  </tbody>\n",
       "</table>\n",
       "<p>5 rows × 26 columns</p>\n",
       "</div>"
      ],
      "text/plain": [
       "   id   age    bp     sg   al   su     rbc        pc         pcc          ba  \\\n",
       "0   0  48.0  80.0  1.020  1.0  0.0     NaN    normal  notpresent  notpresent   \n",
       "1   1   7.0  50.0  1.020  4.0  0.0     NaN    normal  notpresent  notpresent   \n",
       "2   2  62.0  80.0  1.010  2.0  3.0  normal    normal  notpresent  notpresent   \n",
       "3   3  48.0  70.0  1.005  4.0  0.0  normal  abnormal     present  notpresent   \n",
       "4   4  51.0  80.0  1.010  2.0  0.0  normal    normal  notpresent  notpresent   \n",
       "\n",
       "   ...  pcv    wc   rc  htn   dm  cad appet   pe  ane classification  \n",
       "0  ...   44  7800  5.2  yes  yes   no  good   no   no            ckd  \n",
       "1  ...   38  6000  NaN   no   no   no  good   no   no            ckd  \n",
       "2  ...   31  7500  NaN   no  yes   no  poor   no  yes            ckd  \n",
       "3  ...   32  6700  3.9  yes   no   no  poor  yes  yes            ckd  \n",
       "4  ...   35  7300  4.6   no   no   no  good   no   no            ckd  \n",
       "\n",
       "[5 rows x 26 columns]"
      ]
     },
     "execution_count": 3,
     "metadata": {},
     "output_type": "execute_result"
    }
   ],
   "source": [
    "df = pd.read_csv(\"kidney_disease.csv\")\n",
    "df.head()"
   ]
  },
  {
   "cell_type": "code",
   "execution_count": 4,
   "id": "b9f7df36",
   "metadata": {},
   "outputs": [
    {
     "data": {
      "text/plain": [
       "(400, 26)"
      ]
     },
     "execution_count": 4,
     "metadata": {},
     "output_type": "execute_result"
    }
   ],
   "source": [
    "df.shape"
   ]
  },
  {
   "cell_type": "code",
   "execution_count": 5,
   "id": "bc8009cd",
   "metadata": {},
   "outputs": [
    {
     "name": "stdout",
     "output_type": "stream",
     "text": [
      "<class 'pandas.core.frame.DataFrame'>\n",
      "RangeIndex: 400 entries, 0 to 399\n",
      "Data columns (total 26 columns):\n",
      " #   Column          Non-Null Count  Dtype  \n",
      "---  ------          --------------  -----  \n",
      " 0   id              400 non-null    int64  \n",
      " 1   age             391 non-null    float64\n",
      " 2   bp              388 non-null    float64\n",
      " 3   sg              353 non-null    float64\n",
      " 4   al              354 non-null    float64\n",
      " 5   su              351 non-null    float64\n",
      " 6   rbc             248 non-null    object \n",
      " 7   pc              335 non-null    object \n",
      " 8   pcc             396 non-null    object \n",
      " 9   ba              396 non-null    object \n",
      " 10  bgr             356 non-null    float64\n",
      " 11  bu              381 non-null    float64\n",
      " 12  sc              383 non-null    float64\n",
      " 13  sod             313 non-null    float64\n",
      " 14  pot             312 non-null    float64\n",
      " 15  hemo            348 non-null    float64\n",
      " 16  pcv             330 non-null    object \n",
      " 17  wc              295 non-null    object \n",
      " 18  rc              270 non-null    object \n",
      " 19  htn             398 non-null    object \n",
      " 20  dm              398 non-null    object \n",
      " 21  cad             398 non-null    object \n",
      " 22  appet           399 non-null    object \n",
      " 23  pe              399 non-null    object \n",
      " 24  ane             399 non-null    object \n",
      " 25  classification  400 non-null    object \n",
      "dtypes: float64(11), int64(1), object(14)\n",
      "memory usage: 81.4+ KB\n"
     ]
    }
   ],
   "source": [
    "df.info()"
   ]
  },
  {
   "cell_type": "code",
   "execution_count": 6,
   "id": "e926b19a",
   "metadata": {},
   "outputs": [
    {
     "data": {
      "text/plain": [
       "Index(['id', 'age', 'bp', 'sg', 'al', 'su', 'rbc', 'pc', 'pcc', 'ba', 'bgr',\n",
       "       'bu', 'sc', 'sod', 'pot', 'hemo', 'pcv', 'wc', 'rc', 'htn', 'dm', 'cad',\n",
       "       'appet', 'pe', 'ane', 'classification'],\n",
       "      dtype='object')"
      ]
     },
     "execution_count": 6,
     "metadata": {},
     "output_type": "execute_result"
    }
   ],
   "source": [
    "df.columns"
   ]
  },
  {
   "cell_type": "markdown",
   "id": "675de6c2",
   "metadata": {},
   "source": [
    "Dropping ID column"
   ]
  },
  {
   "cell_type": "code",
   "execution_count": 7,
   "id": "8813338d",
   "metadata": {},
   "outputs": [],
   "source": [
    "df.drop('id', axis=1, inplace=True)"
   ]
  },
  {
   "cell_type": "code",
   "execution_count": 8,
   "id": "b15e26ca",
   "metadata": {},
   "outputs": [
    {
     "data": {
      "text/plain": [
       "Index(['age', 'bp', 'sg', 'al', 'su', 'rbc', 'pc', 'pcc', 'ba', 'bgr', 'bu',\n",
       "       'sc', 'sod', 'pot', 'hemo', 'pcv', 'wc', 'rc', 'htn', 'dm', 'cad',\n",
       "       'appet', 'pe', 'ane', 'classification'],\n",
       "      dtype='object')"
      ]
     },
     "execution_count": 8,
     "metadata": {},
     "output_type": "execute_result"
    }
   ],
   "source": [
    "df.columns"
   ]
  },
  {
   "cell_type": "code",
   "execution_count": 9,
   "id": "3e86f24a",
   "metadata": {},
   "outputs": [],
   "source": [
    "df.columns = ['age', 'blood_pressure', 'specific_gravity', 'albumin', 'sugar', 'rbc', 'pus_cell', 'pus_cell_clumps', 'bacteria', 'blood_glucose_random', 'blood_urea', 'serum_creatinine', 'sodium', 'potassium', 'haemoglobin', 'packed_cell_volume', 'wbc_count', 'rbc_count', 'hypertension', 'diabetes_mellitus', 'coronary_artery_disease', 'appetite', 'peda_edema', 'anemia', 'class']"
   ]
  },
  {
   "cell_type": "code",
   "execution_count": 10,
   "id": "9f61e051",
   "metadata": {},
   "outputs": [
    {
     "data": {
      "text/plain": [
       "Index(['age', 'blood_pressure', 'specific_gravity', 'albumin', 'sugar', 'rbc',\n",
       "       'pus_cell', 'pus_cell_clumps', 'bacteria', 'blood_glucose_random',\n",
       "       'blood_urea', 'serum_creatinine', 'sodium', 'potassium', 'haemoglobin',\n",
       "       'packed_cell_volume', 'wbc_count', 'rbc_count', 'hypertension',\n",
       "       'diabetes_mellitus', 'coronary_artery_disease', 'appetite',\n",
       "       'peda_edema', 'anemia', 'class'],\n",
       "      dtype='object')"
      ]
     },
     "execution_count": 10,
     "metadata": {},
     "output_type": "execute_result"
    }
   ],
   "source": [
    "df.columns"
   ]
  },
  {
   "cell_type": "code",
   "execution_count": 11,
   "id": "8e1d6e71",
   "metadata": {},
   "outputs": [
    {
     "data": {
      "text/html": [
       "<div>\n",
       "<style scoped>\n",
       "    .dataframe tbody tr th:only-of-type {\n",
       "        vertical-align: middle;\n",
       "    }\n",
       "\n",
       "    .dataframe tbody tr th {\n",
       "        vertical-align: top;\n",
       "    }\n",
       "\n",
       "    .dataframe thead th {\n",
       "        text-align: right;\n",
       "    }\n",
       "</style>\n",
       "<table border=\"1\" class=\"dataframe\">\n",
       "  <thead>\n",
       "    <tr style=\"text-align: right;\">\n",
       "      <th></th>\n",
       "      <th>age</th>\n",
       "      <th>blood_pressure</th>\n",
       "      <th>specific_gravity</th>\n",
       "      <th>albumin</th>\n",
       "      <th>sugar</th>\n",
       "      <th>blood_glucose_random</th>\n",
       "      <th>blood_urea</th>\n",
       "      <th>serum_creatinine</th>\n",
       "      <th>sodium</th>\n",
       "      <th>potassium</th>\n",
       "      <th>haemoglobin</th>\n",
       "    </tr>\n",
       "  </thead>\n",
       "  <tbody>\n",
       "    <tr>\n",
       "      <th>count</th>\n",
       "      <td>391.000000</td>\n",
       "      <td>388.000000</td>\n",
       "      <td>353.000000</td>\n",
       "      <td>354.000000</td>\n",
       "      <td>351.000000</td>\n",
       "      <td>356.000000</td>\n",
       "      <td>381.000000</td>\n",
       "      <td>383.000000</td>\n",
       "      <td>313.000000</td>\n",
       "      <td>312.000000</td>\n",
       "      <td>348.000000</td>\n",
       "    </tr>\n",
       "    <tr>\n",
       "      <th>mean</th>\n",
       "      <td>51.483376</td>\n",
       "      <td>76.469072</td>\n",
       "      <td>1.017408</td>\n",
       "      <td>1.016949</td>\n",
       "      <td>0.450142</td>\n",
       "      <td>148.036517</td>\n",
       "      <td>57.425722</td>\n",
       "      <td>3.072454</td>\n",
       "      <td>137.528754</td>\n",
       "      <td>4.627244</td>\n",
       "      <td>12.526437</td>\n",
       "    </tr>\n",
       "    <tr>\n",
       "      <th>std</th>\n",
       "      <td>17.169714</td>\n",
       "      <td>13.683637</td>\n",
       "      <td>0.005717</td>\n",
       "      <td>1.352679</td>\n",
       "      <td>1.099191</td>\n",
       "      <td>79.281714</td>\n",
       "      <td>50.503006</td>\n",
       "      <td>5.741126</td>\n",
       "      <td>10.408752</td>\n",
       "      <td>3.193904</td>\n",
       "      <td>2.912587</td>\n",
       "    </tr>\n",
       "    <tr>\n",
       "      <th>min</th>\n",
       "      <td>2.000000</td>\n",
       "      <td>50.000000</td>\n",
       "      <td>1.005000</td>\n",
       "      <td>0.000000</td>\n",
       "      <td>0.000000</td>\n",
       "      <td>22.000000</td>\n",
       "      <td>1.500000</td>\n",
       "      <td>0.400000</td>\n",
       "      <td>4.500000</td>\n",
       "      <td>2.500000</td>\n",
       "      <td>3.100000</td>\n",
       "    </tr>\n",
       "    <tr>\n",
       "      <th>25%</th>\n",
       "      <td>42.000000</td>\n",
       "      <td>70.000000</td>\n",
       "      <td>1.010000</td>\n",
       "      <td>0.000000</td>\n",
       "      <td>0.000000</td>\n",
       "      <td>99.000000</td>\n",
       "      <td>27.000000</td>\n",
       "      <td>0.900000</td>\n",
       "      <td>135.000000</td>\n",
       "      <td>3.800000</td>\n",
       "      <td>10.300000</td>\n",
       "    </tr>\n",
       "    <tr>\n",
       "      <th>50%</th>\n",
       "      <td>55.000000</td>\n",
       "      <td>80.000000</td>\n",
       "      <td>1.020000</td>\n",
       "      <td>0.000000</td>\n",
       "      <td>0.000000</td>\n",
       "      <td>121.000000</td>\n",
       "      <td>42.000000</td>\n",
       "      <td>1.300000</td>\n",
       "      <td>138.000000</td>\n",
       "      <td>4.400000</td>\n",
       "      <td>12.650000</td>\n",
       "    </tr>\n",
       "    <tr>\n",
       "      <th>75%</th>\n",
       "      <td>64.500000</td>\n",
       "      <td>80.000000</td>\n",
       "      <td>1.020000</td>\n",
       "      <td>2.000000</td>\n",
       "      <td>0.000000</td>\n",
       "      <td>163.000000</td>\n",
       "      <td>66.000000</td>\n",
       "      <td>2.800000</td>\n",
       "      <td>142.000000</td>\n",
       "      <td>4.900000</td>\n",
       "      <td>15.000000</td>\n",
       "    </tr>\n",
       "    <tr>\n",
       "      <th>max</th>\n",
       "      <td>90.000000</td>\n",
       "      <td>180.000000</td>\n",
       "      <td>1.025000</td>\n",
       "      <td>5.000000</td>\n",
       "      <td>5.000000</td>\n",
       "      <td>490.000000</td>\n",
       "      <td>391.000000</td>\n",
       "      <td>76.000000</td>\n",
       "      <td>163.000000</td>\n",
       "      <td>47.000000</td>\n",
       "      <td>17.800000</td>\n",
       "    </tr>\n",
       "  </tbody>\n",
       "</table>\n",
       "</div>"
      ],
      "text/plain": [
       "              age  blood_pressure  specific_gravity     albumin       sugar  \\\n",
       "count  391.000000      388.000000        353.000000  354.000000  351.000000   \n",
       "mean    51.483376       76.469072          1.017408    1.016949    0.450142   \n",
       "std     17.169714       13.683637          0.005717    1.352679    1.099191   \n",
       "min      2.000000       50.000000          1.005000    0.000000    0.000000   \n",
       "25%     42.000000       70.000000          1.010000    0.000000    0.000000   \n",
       "50%     55.000000       80.000000          1.020000    0.000000    0.000000   \n",
       "75%     64.500000       80.000000          1.020000    2.000000    0.000000   \n",
       "max     90.000000      180.000000          1.025000    5.000000    5.000000   \n",
       "\n",
       "       blood_glucose_random  blood_urea  serum_creatinine      sodium  \\\n",
       "count            356.000000  381.000000        383.000000  313.000000   \n",
       "mean             148.036517   57.425722          3.072454  137.528754   \n",
       "std               79.281714   50.503006          5.741126   10.408752   \n",
       "min               22.000000    1.500000          0.400000    4.500000   \n",
       "25%               99.000000   27.000000          0.900000  135.000000   \n",
       "50%              121.000000   42.000000          1.300000  138.000000   \n",
       "75%              163.000000   66.000000          2.800000  142.000000   \n",
       "max              490.000000  391.000000         76.000000  163.000000   \n",
       "\n",
       "        potassium  haemoglobin  \n",
       "count  312.000000   348.000000  \n",
       "mean     4.627244    12.526437  \n",
       "std      3.193904     2.912587  \n",
       "min      2.500000     3.100000  \n",
       "25%      3.800000    10.300000  \n",
       "50%      4.400000    12.650000  \n",
       "75%      4.900000    15.000000  \n",
       "max     47.000000    17.800000  "
      ]
     },
     "execution_count": 11,
     "metadata": {},
     "output_type": "execute_result"
    }
   ],
   "source": [
    "df.describe()"
   ]
  },
  {
   "cell_type": "markdown",
   "id": "399d2e88",
   "metadata": {},
   "source": [
    "The dataset has 400 rows but count for each columns are less than 400 which represent the presence of null value "
   ]
  },
  {
   "cell_type": "code",
   "execution_count": 15,
   "id": "a56d1c63",
   "metadata": {},
   "outputs": [
    {
     "data": {
      "text/plain": [
       "age                        float64\n",
       "blood_pressure             float64\n",
       "specific_gravity           float64\n",
       "albumin                    float64\n",
       "sugar                      float64\n",
       "rbc                         object\n",
       "pus_cell                    object\n",
       "pus_cell_clumps             object\n",
       "bacteria                    object\n",
       "blood_glucose_random       float64\n",
       "blood_urea                 float64\n",
       "serum_creatinine           float64\n",
       "sodium                     float64\n",
       "potassium                  float64\n",
       "haemoglobin                float64\n",
       "packed_cell_volume          object\n",
       "wbc_count                   object\n",
       "rbc_count                   object\n",
       "hypertension                object\n",
       "diabetes_mellitus           object\n",
       "coronary_artery_disease     object\n",
       "appetite                    object\n",
       "peda_edema                  object\n",
       "anemia                      object\n",
       "class                       object\n",
       "dtype: object"
      ]
     },
     "execution_count": 15,
     "metadata": {},
     "output_type": "execute_result"
    }
   ],
   "source": [
    "df.dtypes"
   ]
  },
  {
   "cell_type": "code",
   "execution_count": 16,
   "id": "4dc15fc0",
   "metadata": {},
   "outputs": [
    {
     "data": {
      "text/plain": [
       "0      44\n",
       "1      38\n",
       "2      31\n",
       "3      32\n",
       "4      35\n",
       "       ..\n",
       "395    47\n",
       "396    54\n",
       "397    49\n",
       "398    51\n",
       "399    53\n",
       "Name: packed_cell_volume, Length: 400, dtype: object"
      ]
     },
     "execution_count": 16,
     "metadata": {},
     "output_type": "execute_result"
    }
   ],
   "source": [
    "df['packed_cell_volume']"
   ]
  },
  {
   "cell_type": "markdown",
   "id": "409eebd2",
   "metadata": {},
   "source": [
    "Packed cell volume column must be of float data type but it is showing object datatype due to presence of /t?"
   ]
  },
  {
   "cell_type": "code",
   "execution_count": 17,
   "id": "3e33df01",
   "metadata": {},
   "outputs": [
    {
     "data": {
      "text/plain": [
       "array(['44', '38', '31', '32', '35', '39', '36', '33', '29', '28', nan,\n",
       "       '16', '24', '37', '30', '34', '40', '45', '27', '48', '\\t?', '52',\n",
       "       '14', '22', '18', '42', '17', '46', '23', '19', '25', '41', '26',\n",
       "       '15', '21', '43', '20', '\\t43', '47', '9', '49', '50', '53', '51',\n",
       "       '54'], dtype=object)"
      ]
     },
     "execution_count": 17,
     "metadata": {},
     "output_type": "execute_result"
    }
   ],
   "source": [
    "df['packed_cell_volume'].unique()"
   ]
  },
  {
   "cell_type": "markdown",
   "id": "3a784445",
   "metadata": {},
   "source": [
    "Due to some str value in the column, it makes it object column."
   ]
  },
  {
   "cell_type": "code",
   "execution_count": 18,
   "id": "009d3ef0",
   "metadata": {},
   "outputs": [],
   "source": [
    "df['packed_cell_volume'] = pd.to_numeric(df['packed_cell_volume'], errors= 'coerce')  # suppress the error / ignore the error"
   ]
  },
  {
   "cell_type": "code",
   "execution_count": 19,
   "id": "e6a6a71a",
   "metadata": {},
   "outputs": [
    {
     "data": {
      "text/plain": [
       "0      44.0\n",
       "1      38.0\n",
       "2      31.0\n",
       "3      32.0\n",
       "4      35.0\n",
       "       ... \n",
       "395    47.0\n",
       "396    54.0\n",
       "397    49.0\n",
       "398    51.0\n",
       "399    53.0\n",
       "Name: packed_cell_volume, Length: 400, dtype: float64"
      ]
     },
     "execution_count": 19,
     "metadata": {},
     "output_type": "execute_result"
    }
   ],
   "source": [
    "df['packed_cell_volume']"
   ]
  },
  {
   "cell_type": "markdown",
   "id": "671cdb84",
   "metadata": {},
   "source": [
    "All string character converted to nan"
   ]
  },
  {
   "cell_type": "code",
   "execution_count": 20,
   "id": "29666e4a",
   "metadata": {},
   "outputs": [
    {
     "data": {
      "text/plain": [
       "array([44., 38., 31., 32., 35., 39., 36., 33., 29., 28., nan, 16., 24.,\n",
       "       37., 30., 34., 40., 45., 27., 48., 52., 14., 22., 18., 42., 17.,\n",
       "       46., 23., 19., 25., 41., 26., 15., 21., 43., 20., 47.,  9., 49.,\n",
       "       50., 53., 51., 54.])"
      ]
     },
     "execution_count": 20,
     "metadata": {},
     "output_type": "execute_result"
    }
   ],
   "source": [
    "df['packed_cell_volume'].unique()"
   ]
  },
  {
   "cell_type": "code",
   "execution_count": 21,
   "id": "6c91844f",
   "metadata": {},
   "outputs": [
    {
     "data": {
      "text/plain": [
       "Index(['age', 'blood_pressure', 'specific_gravity', 'albumin', 'sugar', 'rbc',\n",
       "       'pus_cell', 'pus_cell_clumps', 'bacteria', 'blood_glucose_random',\n",
       "       'blood_urea', 'serum_creatinine', 'sodium', 'potassium', 'haemoglobin',\n",
       "       'packed_cell_volume', 'wbc_count', 'rbc_count', 'hypertension',\n",
       "       'diabetes_mellitus', 'coronary_artery_disease', 'appetite',\n",
       "       'peda_edema', 'anemia', 'class'],\n",
       "      dtype='object')"
      ]
     },
     "execution_count": 21,
     "metadata": {},
     "output_type": "execute_result"
    }
   ],
   "source": [
    "df.columns"
   ]
  },
  {
   "cell_type": "code",
   "execution_count": 22,
   "id": "b17d7449",
   "metadata": {},
   "outputs": [],
   "source": [
    "df['wbc_count'] = pd.to_numeric(df['wbc_count'], errors= 'coerce')  # suppress the error / ignore the error"
   ]
  },
  {
   "cell_type": "code",
   "execution_count": 23,
   "id": "ccffd655",
   "metadata": {},
   "outputs": [
    {
     "data": {
      "text/plain": [
       "0      7800.0\n",
       "1      6000.0\n",
       "2      7500.0\n",
       "3      6700.0\n",
       "4      7300.0\n",
       "        ...  \n",
       "395    6700.0\n",
       "396    7800.0\n",
       "397    6600.0\n",
       "398    7200.0\n",
       "399    6800.0\n",
       "Name: wbc_count, Length: 400, dtype: float64"
      ]
     },
     "execution_count": 23,
     "metadata": {},
     "output_type": "execute_result"
    }
   ],
   "source": [
    "df['wbc_count']"
   ]
  },
  {
   "cell_type": "code",
   "execution_count": 24,
   "id": "d6f1b301",
   "metadata": {},
   "outputs": [],
   "source": [
    "df['rbc_count'] = pd.to_numeric(df['rbc_count'], errors= 'coerce')  # suppress the error / ignore the error"
   ]
  },
  {
   "cell_type": "code",
   "execution_count": 25,
   "id": "95c3f271",
   "metadata": {},
   "outputs": [
    {
     "data": {
      "text/plain": [
       "age                        float64\n",
       "blood_pressure             float64\n",
       "specific_gravity           float64\n",
       "albumin                    float64\n",
       "sugar                      float64\n",
       "rbc                         object\n",
       "pus_cell                    object\n",
       "pus_cell_clumps             object\n",
       "bacteria                    object\n",
       "blood_glucose_random       float64\n",
       "blood_urea                 float64\n",
       "serum_creatinine           float64\n",
       "sodium                     float64\n",
       "potassium                  float64\n",
       "haemoglobin                float64\n",
       "packed_cell_volume         float64\n",
       "wbc_count                  float64\n",
       "rbc_count                  float64\n",
       "hypertension                object\n",
       "diabetes_mellitus           object\n",
       "coronary_artery_disease     object\n",
       "appetite                    object\n",
       "peda_edema                  object\n",
       "anemia                      object\n",
       "class                       object\n",
       "dtype: object"
      ]
     },
     "execution_count": 25,
     "metadata": {},
     "output_type": "execute_result"
    }
   ],
   "source": [
    "df.dtypes"
   ]
  },
  {
   "cell_type": "markdown",
   "id": "aecf209d",
   "metadata": {},
   "source": [
    "Seperating categorical & numerical column."
   ]
  },
  {
   "cell_type": "code",
   "execution_count": 27,
   "id": "209922a9",
   "metadata": {},
   "outputs": [
    {
     "data": {
      "text/plain": [
       "['rbc',\n",
       " 'pus_cell',\n",
       " 'pus_cell_clumps',\n",
       " 'bacteria',\n",
       " 'hypertension',\n",
       " 'diabetes_mellitus',\n",
       " 'coronary_artery_disease',\n",
       " 'appetite',\n",
       " 'peda_edema',\n",
       " 'anemia',\n",
       " 'class']"
      ]
     },
     "execution_count": 27,
     "metadata": {},
     "output_type": "execute_result"
    }
   ],
   "source": [
    "cat_cols = [col for col in df.columns if df[col].dtype == 'object']\n",
    "cat_cols"
   ]
  },
  {
   "cell_type": "code",
   "execution_count": 28,
   "id": "7acfc6dc",
   "metadata": {},
   "outputs": [
    {
     "data": {
      "text/plain": [
       "['age',\n",
       " 'blood_pressure',\n",
       " 'specific_gravity',\n",
       " 'albumin',\n",
       " 'sugar',\n",
       " 'blood_glucose_random',\n",
       " 'blood_urea',\n",
       " 'serum_creatinine',\n",
       " 'sodium',\n",
       " 'potassium',\n",
       " 'haemoglobin',\n",
       " 'packed_cell_volume',\n",
       " 'wbc_count',\n",
       " 'rbc_count']"
      ]
     },
     "execution_count": 28,
     "metadata": {},
     "output_type": "execute_result"
    }
   ],
   "source": [
    "num_cols = [col for col in df.columns if df[col].dtype != 'object']\n",
    "num_cols"
   ]
  },
  {
   "cell_type": "code",
   "execution_count": 29,
   "id": "3d4f3b02",
   "metadata": {},
   "outputs": [
    {
     "name": "stdout",
     "output_type": "stream",
     "text": [
      "rbc has [nan 'normal' 'abnormal'] values\n",
      "\n",
      "pus_cell has ['normal' 'abnormal' nan] values\n",
      "\n",
      "pus_cell_clumps has ['notpresent' 'present' nan] values\n",
      "\n",
      "bacteria has ['notpresent' 'present' nan] values\n",
      "\n",
      "hypertension has ['yes' 'no' nan] values\n",
      "\n",
      "diabetes_mellitus has ['yes' 'no' ' yes' '\\tno' '\\tyes' nan] values\n",
      "\n",
      "coronary_artery_disease has ['no' 'yes' '\\tno' nan] values\n",
      "\n",
      "appetite has ['good' 'poor' nan] values\n",
      "\n",
      "peda_edema has ['no' 'yes' nan] values\n",
      "\n",
      "anemia has ['no' 'yes' nan] values\n",
      "\n",
      "class has ['ckd' 'ckd\\t' 'notckd'] values\n",
      "\n"
     ]
    }
   ],
   "source": [
    "for col in cat_cols:\n",
    "    print(f\"{col} has {df[col].unique()} values\\n\")"
   ]
  },
  {
   "cell_type": "code",
   "execution_count": 30,
   "id": "dbcb3d96",
   "metadata": {},
   "outputs": [],
   "source": [
    "df['diabetes_mellitus'].replace(to_replace= {' yes' : 'yes', '\\tyes': 'yes', '\\tno' : 'no'}, inplace= True)"
   ]
  },
  {
   "cell_type": "code",
   "execution_count": 31,
   "id": "af025a82",
   "metadata": {},
   "outputs": [
    {
     "data": {
      "text/plain": [
       "array(['yes', 'no', nan], dtype=object)"
      ]
     },
     "execution_count": 31,
     "metadata": {},
     "output_type": "execute_result"
    }
   ],
   "source": [
    "df['diabetes_mellitus'].unique()"
   ]
  },
  {
   "cell_type": "code",
   "execution_count": 34,
   "id": "7a1b1a97",
   "metadata": {},
   "outputs": [],
   "source": [
    "df['coronary_artery_disease'].replace(to_replace= '\\tno', value= 'no', inplace= True)"
   ]
  },
  {
   "cell_type": "code",
   "execution_count": 35,
   "id": "53b4f762",
   "metadata": {},
   "outputs": [
    {
     "data": {
      "text/plain": [
       "array(['no', 'yes', nan], dtype=object)"
      ]
     },
     "execution_count": 35,
     "metadata": {},
     "output_type": "execute_result"
    }
   ],
   "source": [
    "df['coronary_artery_disease'].unique()"
   ]
  },
  {
   "cell_type": "code",
   "execution_count": 37,
   "id": "fa78a63b",
   "metadata": {},
   "outputs": [],
   "source": [
    "df['class'] = df['class'].map({'ckd' :1 , 'notckd' : 0, 'ckd\\t': 1 })"
   ]
  },
  {
   "cell_type": "code",
   "execution_count": 38,
   "id": "e3b86c54",
   "metadata": {},
   "outputs": [
    {
     "data": {
      "text/plain": [
       "array([1, 0])"
      ]
     },
     "execution_count": 38,
     "metadata": {},
     "output_type": "execute_result"
    }
   ],
   "source": [
    "df['class'].unique()"
   ]
  },
  {
   "cell_type": "markdown",
   "id": "05bde8f3",
   "metadata": {},
   "source": [
    "# Univariate Analysis \n",
    "\n",
    "One feature at a Time"
   ]
  },
  {
   "cell_type": "code",
   "execution_count": 39,
   "id": "7c308d8a",
   "metadata": {},
   "outputs": [
    {
     "data": {
      "image/png": "[encoded data removed]",
      "text/plain": [
       "<Figure size 1000x600 with 1 Axes>"
      ]
     },
     "metadata": {},
     "output_type": "display_data"
    }
   ],
   "source": [
    "plt.figure(figsize= (10, 6))\n",
    "sns.histplot(df['age'].dropna(), kde= True, bins= 20, color= 'skyblue')\n",
    "plt.title('Dist of Age')\n",
    "plt.xlabel('Age')\n",
    "plt.ylabel('Frequency')\n",
    "plt.show()"
   ]
  },
  {
   "cell_type": "markdown",
   "id": "3e629857",
   "metadata": {},
   "source": [
    "> Insights : Age is left skewed data."
   ]
  },
  {
   "cell_type": "code",
   "execution_count": 40,
   "id": "c337d990",
   "metadata": {},
   "outputs": [
    {
     "data": {
      "text/plain": [
       "Index(['age', 'blood_pressure', 'specific_gravity', 'albumin', 'sugar', 'rbc',\n",
       "       'pus_cell', 'pus_cell_clumps', 'bacteria', 'blood_glucose_random',\n",
       "       'blood_urea', 'serum_creatinine', 'sodium', 'potassium', 'haemoglobin',\n",
       "       'packed_cell_volume', 'wbc_count', 'rbc_count', 'hypertension',\n",
       "       'diabetes_mellitus', 'coronary_artery_disease', 'appetite',\n",
       "       'peda_edema', 'anemia', 'class'],\n",
       "      dtype='object')"
      ]
     },
     "execution_count": 40,
     "metadata": {},
     "output_type": "execute_result"
    }
   ],
   "source": [
    "df.columns"
   ]
  },
  {
   "cell_type": "code",
   "execution_count": 42,
   "id": "990fa872",
   "metadata": {},
   "outputs": [
    {
     "data": {
      "text/plain": [
       "<Axes: xlabel='hypertension', ylabel='count'>"
      ]
     },
     "execution_count": 42,
     "metadata": {},
     "output_type": "execute_result"
    },
    {
     "data": {
      "image/png": "[encoded data removed]",
      "text/plain": [
       "<Figure size 640x480 with 1 Axes>"
      ]
     },
     "metadata": {},
     "output_type": "display_data"
    }
   ],
   "source": [
    "sns.countplot(x= 'hypertension', data= df, palette= 'viridis')"
   ]
  },
  {
   "cell_type": "markdown",
   "id": "854bc068",
   "metadata": {},
   "source": [
    "> Insights : 150 of them have hypertension"
   ]
  },
  {
   "cell_type": "markdown",
   "id": "c9f8f786",
   "metadata": {},
   "source": [
    "---\n",
    "\n"
   ]
  },
  {
   "cell_type": "code",
   "execution_count": 44,
   "id": "ca662a3f",
   "metadata": {},
   "outputs": [
    {
     "data": {
      "text/plain": [
       "<Axes: xlabel='class', ylabel='blood_urea'>"
      ]
     },
     "execution_count": 44,
     "metadata": {},
     "output_type": "execute_result"
    },
    {
     "data": {
      "image/png": "[encoded data removed]",
      "text/plain": [
       "<Figure size 640x480 with 1 Axes>"
      ]
     },
     "metadata": {},
     "output_type": "display_data"
    }
   ],
   "source": [
    "sns.boxplot(x= 'class', y= 'blood_urea', data= df, palette= 'viridis')"
   ]
  },
  {
   "cell_type": "markdown",
   "id": "c3a83f83",
   "metadata": {},
   "source": [
    "> Insights : People with kidney disease has higher blood urea with outliers."
   ]
  },
  {
   "cell_type": "code",
   "execution_count": 45,
   "id": "e2eebe90",
   "metadata": {},
   "outputs": [
    {
     "data": {
      "text/plain": [
       "<Axes: xlabel='class', ylabel='serum_creatinine'>"
      ]
     },
     "execution_count": 45,
     "metadata": {},
     "output_type": "execute_result"
    },
    {
     "data": {
      "image/png": "[encoded data removed]",
      "text/plain": [
       "<Figure size 640x480 with 1 Axes>"
      ]
     },
     "metadata": {},
     "output_type": "display_data"
    }
   ],
   "source": [
    "sns.violinplot(x='class', y= 'serum_creatinine', data= df, palette= 'muted')"
   ]
  },
  {
   "cell_type": "markdown",
   "id": "9ab3b52f",
   "metadata": {},
   "source": [
    "---"
   ]
  },
  {
   "cell_type": "code",
   "execution_count": 46,
   "id": "03fd02e4",
   "metadata": {},
   "outputs": [
    {
     "data": {
      "text/plain": [
       "<Axes: xlabel='anemia', ylabel='count'>"
      ]
     },
     "execution_count": 46,
     "metadata": {},
     "output_type": "execute_result"
    },
    {
     "data": {
      "image/png": "[encoded data removed]",
      "text/plain": [
       "<Figure size 640x480 with 1 Axes>"
      ]
     },
     "metadata": {},
     "output_type": "display_data"
    }
   ],
   "source": [
    "sns.countplot(x='anemia', data=df, palette='pastel')"
   ]
  },
  {
   "cell_type": "markdown",
   "id": "fb06d0db",
   "metadata": {},
   "source": [
    "> Insights : Majority of people not suffering from anemia."
   ]
  },
  {
   "cell_type": "code",
   "execution_count": 47,
   "id": "f561afcb",
   "metadata": {},
   "outputs": [
    {
     "data": {
      "text/plain": [
       "appetite\n",
       "good    317\n",
       "poor     82\n",
       "Name: count, dtype: int64"
      ]
     },
     "execution_count": 47,
     "metadata": {},
     "output_type": "execute_result"
    }
   ],
   "source": [
    "df.appetite.value_counts()"
   ]
  },
  {
   "cell_type": "code",
   "execution_count": 48,
   "id": "f61c4b69",
   "metadata": {},
   "outputs": [
    {
     "data": {
      "text/plain": [
       "<Axes: ylabel='count'>"
      ]
     },
     "execution_count": 48,
     "metadata": {},
     "output_type": "execute_result"
    },
    {
     "data": {
      "image/png": "[encoded data removed]",
      "text/plain": [
       "<Figure size 640x480 with 1 Axes>"
      ]
     },
     "metadata": {},
     "output_type": "display_data"
    }
   ],
   "source": [
    "df.appetite.value_counts().plot.pie(autopct = '%1.1f%%')"
   ]
  },
  {
   "cell_type": "code",
   "execution_count": 52,
   "id": "c0c183ff",
   "metadata": {},
   "outputs": [
    {
     "data": {
      "text/plain": [
       "<Axes: ylabel='count'>"
      ]
     },
     "execution_count": 52,
     "metadata": {},
     "output_type": "execute_result"
    },
    {
     "data": {
      "image/png": "[encoded data removed]",
      "text/plain": [
       "<Figure size 640x480 with 1 Axes>"
      ]
     },
     "metadata": {},
     "output_type": "display_data"
    }
   ],
   "source": [
    "df.appetite.value_counts().plot.pie(autopct = '%1.1f%%', colors = ['lightcoral', 'lightgreen'], explode= (0, 0.1), shadow= True, startangle = 90)"
   ]
  },
  {
   "cell_type": "markdown",
   "id": "fbf0187e",
   "metadata": {},
   "source": [
    "> Insights : 79.4% people have good appetite and rest have poor."
   ]
  },
  {
   "cell_type": "code",
   "execution_count": 53,
   "id": "5a100734",
   "metadata": {},
   "outputs": [
    {
     "data": {
      "text/plain": [
       "Index(['age', 'blood_pressure', 'specific_gravity', 'albumin', 'sugar', 'rbc',\n",
       "       'pus_cell', 'pus_cell_clumps', 'bacteria', 'blood_glucose_random',\n",
       "       'blood_urea', 'serum_creatinine', 'sodium', 'potassium', 'haemoglobin',\n",
       "       'packed_cell_volume', 'wbc_count', 'rbc_count', 'hypertension',\n",
       "       'diabetes_mellitus', 'coronary_artery_disease', 'appetite',\n",
       "       'peda_edema', 'anemia', 'class'],\n",
       "      dtype='object')"
      ]
     },
     "execution_count": 53,
     "metadata": {},
     "output_type": "execute_result"
    }
   ],
   "source": [
    "df.columns"
   ]
  },
  {
   "cell_type": "code",
   "execution_count": null,
   "id": "700e6b03",
   "metadata": {},
   "outputs": [],
   "source": []
  }
 ],
 "metadata": {
  "kernelspec": {
   "display_name": "Python 3",
   "language": "python",
   "name": "python3"
  },
  "language_info": {
   "codemirror_mode": {
    "name": "ipython",
    "version": 3
   },
   "file_extension": ".py",
   "mimetype": "text/x-python",
   "name": "python",
   "nbconvert_exporter": "python",
   "pygments_lexer": "ipython3",
   "version": "3.13.7"
  }
 },
 "nbformat": 4,
 "nbformat_minor": 5
}
